{
  "nbformat": 4,
  "nbformat_minor": 0,
  "metadata": {
    "colab": {
      "name": "LAB_03.ipynb",
      "provenance": [],
      "collapsed_sections": [],
      "authorship_tag": "ABX9TyMncx0T8QHocLg6a6WexVJM",
      "include_colab_link": true
    },
    "kernelspec": {
      "name": "python3",
      "display_name": "Python 3"
    },
    "language_info": {
      "name": "python"
    }
  },
  "cells": [
    {
      "cell_type": "markdown",
      "metadata": {
        "id": "view-in-github",
        "colab_type": "text"
      },
      "source": [
        "<a href=\"https://colab.research.google.com/github/Rana12356/LAB_TASK_03/blob/main/LAB_03.ipynb\" target=\"_parent\"><img src=\"https://colab.research.google.com/assets/colab-badge.svg\" alt=\"Open In Colab\"/></a>"
      ]
    },
    {
      "cell_type": "code",
      "metadata": {
        "colab": {
          "base_uri": "https://localhost:8080/"
        },
        "id": "ZokeKOedoaHo",
        "outputId": "b994250d-f2cc-4875-eaaa-25bf30b22633"
      },
      "source": [
        "data=[]\n",
        "choice='random'\n",
        "def line():\n",
        "  print('---------------------------------------')\n",
        "def show_course():\n",
        "  line()\n",
        "  print('Your Courses')\n",
        "  line()\n",
        "  print('1. Add Course')\n",
        "  print('2 .View Courses')\n",
        "  print('3. Unenroll Course')\n",
        "  print('4. Exit Menu')\n",
        "  line()\n",
        "  choice=input('Enter Your Choice:')\n",
        "  return choice\n",
        "\n",
        "while choice!='4':\n",
        "  choice=show_course()\n",
        "  if choice=='1':\n",
        "    course=input('Enroll Your Course: ' )\n",
        "    data.append(course)\n",
        "    print(course,'course has been enrolled')\n",
        "  elif choice=='2':\n",
        "    print('List of all of your enroll courses')\n",
        "    for course in data:\n",
        "      print(course)\n",
        "  elif choice=='3':\n",
        "    course=input('Unenroll Your Course: ')\n",
        "    if course in data:\n",
        "      data.remove(course)\n",
        "      print('You have been unenrolled from',course,'course')\n",
        "    else:\n",
        "       print('You are not enrolled in this course') \n",
        "  elif choice=='4':\n",
        "    print('You have been logged out ')\n",
        "  else:\n",
        "    print(\"Please again select 1,2 or 3 \")"
      ],
      "execution_count": 1,
      "outputs": [
        {
          "output_type": "stream",
          "text": [
            "---------------------------------------\n",
            "Your Courses\n",
            "---------------------------------------\n",
            "1. Add Course\n",
            "2 .View Courses\n",
            "3. Unenroll Course\n",
            "4. Exit Menu\n",
            "---------------------------------------\n",
            "Enter Your Choice:1\n",
            "Enroll Your Course: 2\n",
            "2 course has been enrolled\n",
            "---------------------------------------\n",
            "Your Courses\n",
            "---------------------------------------\n",
            "1. Add Course\n",
            "2 .View Courses\n",
            "3. Unenroll Course\n",
            "4. Exit Menu\n",
            "---------------------------------------\n",
            "Enter Your Choice:3\n",
            "Unenroll Your Course: 5\n",
            "You are not enrolled in this course\n",
            "---------------------------------------\n",
            "Your Courses\n",
            "---------------------------------------\n",
            "1. Add Course\n",
            "2 .View Courses\n",
            "3. Unenroll Course\n",
            "4. Exit Menu\n",
            "---------------------------------------\n",
            "Enter Your Choice:4\n",
            "You have been logged out \n"
          ],
          "name": "stdout"
        }
      ]
    }
  ]
}